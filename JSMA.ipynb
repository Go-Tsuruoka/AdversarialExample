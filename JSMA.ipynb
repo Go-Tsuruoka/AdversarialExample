{
 "cells": [
  {
   "attachments": {},
   "cell_type": "markdown",
   "metadata": {},
   "source": [
    "# Adversarial　Example - JSMA編-\n",
    "Adversarial Exampleによる攻撃の一つとして、Jacobian Saliency Map Attackがある。これについて実装していこう。\n",
    "今回の手法については、以下のような特徴がある。\n",
    "- ホワイトボックス攻撃\n",
    "- FGSMよりもノイズの少ない攻撃が可能である。"
   ]
  },
  {
   "attachments": {},
   "cell_type": "markdown",
   "metadata": {},
   "source": [
    "まずはライブラリのインポート"
   ]
  },
  {
   "cell_type": "code",
   "execution_count": 2,
   "metadata": {},
   "outputs": [],
   "source": [
    "import os\n",
    "import torch\n",
    "import torch.nn as nn\n",
    "import torch.nn.functional as F\n",
    "import torch.optim as optim\n",
    "from torchvision import datasets,transforms\n",
    "import numpy as np\n",
    "import matplotlib.pyplot as plt\n"
   ]
  },
  {
   "attachments": {},
   "cell_type": "markdown",
   "metadata": {},
   "source": [
    "ディレクトリの作成。事前に学習したモデルを取り込む。\n",
    "``` bash\n",
    "wget 'https://drive.google.com/uc?export=download&id=1KVOHbHnjCd1L-ookcd7CxDqb7rb8-DSx' -O './data/lenet_mnist_model.pth'\n",
    "```"
   ]
  },
  {
   "cell_type": "code",
   "execution_count": 3,
   "metadata": {},
   "outputs": [],
   "source": [
    "pretrained_model = \"data/lenet_mnist_model.pth\"\n",
    "use_cuda=True"
   ]
  },
  {
   "attachments": {},
   "cell_type": "markdown",
   "metadata": {},
   "source": [
    "# MNIST分類モデルの定義\n",
    ".pthファイルはモデルの重みを与えている。そのため、モデルの構造を定義する必要がある。"
   ]
  },
  {
   "cell_type": "code",
   "execution_count": 4,
   "metadata": {},
   "outputs": [],
   "source": [
    "class Net(nn.Module):\n",
    "    def __init__(self):\n",
    "        super(Net,self).__init__()\n",
    "        self.conv1 = nn.Conv2d(1, 10, kernel_size=5)\n",
    "        self.conv2 = nn.Conv2d(10, 20, kernel_size=5)\n",
    "        self.conv2_drop = nn.Dropout2d()\n",
    "        self.fc1 = nn.Linear(320, 50)\n",
    "        self.fc2 = nn.Linear(50, 10)\n",
    "    \n",
    "    def forward(self,x):\n",
    "        x = F.relu(F.max_pool2d(self.conv1(x), 2))\n",
    "        x = F.relu(F.max_pool2d(self.conv2_drop(self.conv2(x)), 2))\n",
    "        x = x.view(-1, 320)\n",
    "        x = F.relu(self.fc1(x))\n",
    "        x = F.dropout(x, training=self.training)\n",
    "        x = self.fc2(x)\n",
    "        return F.log_softmax(x, dim=1)"
   ]
  },
  {
   "attachments": {},
   "cell_type": "markdown",
   "metadata": {},
   "source": [
    "## データセットとデータローダーの定義"
   ]
  },
  {
   "attachments": {},
   "cell_type": "markdown",
   "metadata": {},
   "source": [
    "MNISTデータセットからデータローダーを作成する。\n",
    "ここで、transforms.ToTensor()は自動で0~1の範囲に変換してくれる。"
   ]
  },
  {
   "cell_type": "code",
   "execution_count": 5,
   "metadata": {},
   "outputs": [
    {
     "data": {
      "text/plain": [
       "Net(\n",
       "  (conv1): Conv2d(1, 10, kernel_size=(5, 5), stride=(1, 1))\n",
       "  (conv2): Conv2d(10, 20, kernel_size=(5, 5), stride=(1, 1))\n",
       "  (conv2_drop): Dropout2d(p=0.5, inplace=False)\n",
       "  (fc1): Linear(in_features=320, out_features=50, bias=True)\n",
       "  (fc2): Linear(in_features=50, out_features=10, bias=True)\n",
       ")"
      ]
     },
     "execution_count": 5,
     "metadata": {},
     "output_type": "execute_result"
    }
   ],
   "source": [
    "test_loader = torch.utils.data.DataLoader(\n",
    "    datasets.MNIST('./data', train=False, download=True,\n",
    "                   transform=transforms.Compose([\n",
    "                       transforms.ToTensor(),\n",
    "                   ])),\n",
    "    batch_size=1, shuffle=True)\n",
    "\n",
    "\n",
    "device = torch.device(\"cuda\" if (use_cuda and torch.cuda.is_available())else \"cpu\")\n",
    "\n",
    "model = Net().to(device)\n",
    "\n",
    "model.load_state_dict(torch.load(pretrained_model,map_location='cpu'))\n",
    "\n",
    "model.eval()# 推論を有効に"
   ]
  },
  {
   "attachments": {},
   "cell_type": "markdown",
   "metadata": {},
   "source": [
    "## 攻撃するためのモデルの定義"
   ]
  },
  {
   "attachments": {},
   "cell_type": "markdown",
   "metadata": {},
   "source": [
    "JSMAでは以下のように摂動を加える。\n",
    "画像xに対して、tと誤認識させたいときのxのi番目のピクセルへの摂動は$S(x,t)[i]$は\n",
    "\n",
    "$$\n",
    "S(x,t)[i] = \\begin{cases}\n",
    "0 & \\text{if } \\frac{\\partial F_t}{\\partial x_i}(x)　<0  \\text{OR} \\sum_{j\\neq t} \\frac{\\partial F_j}{\\partial x_i}(x) >0 \\\\\n",
    "\\frac{\\partial F_t}{\\partial x_i}(x) \\mid\\mid \\sum_{j\\neq t} \\frac{\\partial F_j}{\\partial x_i}(x) \\mid\\mid & \\text{otherwise}\n",
    "\\end{cases}\n",
    "$$\n",
    "\n",
    "まずは入力に対する出力の勾配を求める必要がある。このとき、それぞれの尤度に対して勾配を求める必要があることに注意が必要。"
   ]
  },
  {
   "attachments": {},
   "cell_type": "markdown",
   "metadata": {},
   "source": [
    "# ヤコビアンから　saliency mapを求める\n",
    "ヤコビアンから　saliency mapを求めよう。これは、先程定義した関数を使って求めることができます。"
   ]
  },
  {
   "cell_type": "code",
   "execution_count": 6,
   "metadata": {},
   "outputs": [],
   "source": [
    "def SAT(jacobian,target_class):\n",
    "    sat_map = torch.zeros(1,1,28,28)\n",
    "    # 勾配の総和\n",
    "\n",
    "    for height in range(28):\n",
    "        for width in range(28):\n",
    "            if jacobian[target_class][0][height][width]<0:\n",
    "                sat_map[0][0][height][width] =0\n",
    "            else:\n",
    "                #同一ピクセルでの勾配の総和\n",
    "                class_sum = 0\n",
    "                for _class in range(10):\n",
    "                    if _class == target_class:\n",
    "                        continue\n",
    "                    else:\n",
    "                        class_sum += jacobian[_class][0][height][width]\n",
    "                if class_sum > 0:\n",
    "                    sat_map[0][0][height][width] = 0\n",
    "                else:\n",
    "                    sat_map[0][0][height][width] = jacobian[target_class][0][height][width]*abs(class_sum) \n",
    "\n",
    "    return sat_map"
   ]
  },
  {
   "cell_type": "code",
   "execution_count": 10,
   "metadata": {},
   "outputs": [
    {
     "name": "stdout",
     "output_type": "stream",
     "text": [
      "success\n",
      "6 -> 2\n"
     ]
    },
    {
     "data": {
      "image/png": "[encoded data removed]",
      "text/plain": [
       "<Figure size 640x480 with 3 Axes>"
      ]
     },
     "metadata": {},
     "output_type": "display_data"
    },
    {
     "name": "stdout",
     "output_type": "stream",
     "text": [
      "success\n",
      "7 -> 2\n"
     ]
    },
    {
     "data": {
      "image/png": "[encoded data removed]",
      "text/plain": [
       "<Figure size 640x480 with 3 Axes>"
      ]
     },
     "metadata": {},
     "output_type": "display_data"
    },
    {
     "name": "stdout",
     "output_type": "stream",
     "text": [
      "success\n",
      "9 -> 2\n"
     ]
    },
    {
     "data": {
      "image/png": "[encoded data removed]",
      "text/plain": [
       "<Figure size 640x480 with 3 Axes>"
      ]
     },
     "metadata": {},
     "output_type": "display_data"
    },
    {
     "name": "stdout",
     "output_type": "stream",
     "text": [
      "success\n",
      "0 -> 2\n"
     ]
    },
    {
     "data": {
      "image/png": "[encoded data removed]",
      "text/plain": [
       "<Figure size 640x480 with 3 Axes>"
      ]
     },
     "metadata": {},
     "output_type": "display_data"
    },
    {
     "name": "stdout",
     "output_type": "stream",
     "text": [
      "success\n",
      "6 -> 2\n"
     ]
    },
    {
     "data": {
      "image/png": "[encoded data removed]",
      "text/plain": [
       "<Figure size 640x480 with 3 Axes>"
      ]
     },
     "metadata": {},
     "output_type": "display_data"
    },
    {
     "name": "stdout",
     "output_type": "stream",
     "text": [
      "success\n",
      "8 -> 2\n",
      "success\n",
      "7 -> 2\n",
      "success\n",
      "9 -> 2\n",
      "success\n",
      "0 -> 2\n",
      "success\n",
      "7 -> 2\n",
      "success\n",
      "4 -> 2\n",
      "success\n",
      "3 -> 2\n",
      "success\n",
      "9 -> 2\n",
      "success\n",
      "6 -> 2\n",
      "success\n",
      "0 -> 2\n",
      "success\n",
      "4 -> 2\n",
      "success\n",
      "3 -> 2\n",
      "success\n",
      "8 -> 2\n",
      "success\n",
      "7 -> 2\n",
      "success\n",
      "7 -> 2\n",
      "success\n",
      "6 -> 2\n",
      "success\n",
      "3 -> 2\n",
      "success\n",
      "1 -> 2\n",
      "success\n",
      "3 -> 2\n",
      "success\n",
      "5 -> 2\n",
      "success\n",
      "4 -> 2\n",
      "success\n",
      "5 -> 2\n",
      "success\n",
      "4 -> 2\n",
      "success\n",
      "0 -> 2\n",
      "success\n",
      "1 -> 2\n",
      "success\n",
      "9 -> 2\n",
      "success\n",
      "9 -> 2\n",
      "success\n",
      "0 -> 2\n",
      "success\n",
      "0 -> 2\n",
      "success\n",
      "7 -> 2\n",
      "success\n",
      "0 -> 2\n",
      "success\n",
      "5 -> 2\n",
      "success\n",
      "3 -> 2\n",
      "success\n",
      "0 -> 2\n",
      "success\n",
      "8 -> 2\n",
      "success\n",
      "4 -> 2\n",
      "success\n",
      "7 -> 2\n",
      "success\n",
      "9 -> 2\n",
      "success\n",
      "9 -> 2\n",
      "success\n",
      "9 -> 2\n",
      "success\n",
      "0 -> 2\n",
      "success\n",
      "8 -> 2\n",
      "success\n",
      "4 -> 2\n",
      "success\n",
      "3 -> 2\n",
      "success\n",
      "9 -> 2\n",
      "success\n",
      "1 -> 2\n",
      "success\n",
      "6 -> 2\n",
      "success\n",
      "7 -> 2\n",
      "success\n",
      "9 -> 2\n",
      "success\n",
      "1 -> 2\n",
      "success\n",
      "3 -> 2\n",
      "success\n",
      "4 -> 2\n",
      "success\n",
      "0 -> 2\n",
      "success\n",
      "8 -> 2\n",
      "success\n",
      "7 -> 2\n",
      "success\n",
      "3 -> 2\n",
      "success\n",
      "9 -> 2\n",
      "success\n",
      "3 -> 2\n",
      "success\n",
      "1 -> 2\n",
      "success\n",
      "3 -> 2\n",
      "success\n",
      "4 -> 2\n",
      "success\n",
      "8 -> 2\n",
      "success\n",
      "4 -> 2\n",
      "success\n",
      "9 -> 2\n",
      "success\n",
      "9 -> 2\n",
      "success\n",
      "8 -> 2\n",
      "success\n",
      "7 -> 2\n",
      "success\n",
      "4 -> 2\n",
      "success\n",
      "3 -> 2\n",
      "success\n",
      "5 -> 2\n",
      "success\n",
      "3 -> 2\n",
      "success\n",
      "4 -> 2\n",
      "success\n",
      "9 -> 2\n",
      "success\n",
      "7 -> 2\n",
      "success\n",
      "7 -> 2\n",
      "success\n",
      "5 -> 2\n",
      "success\n",
      "6 -> 2\n",
      "success\n",
      "8 -> 2\n",
      "success\n",
      "7 -> 2\n",
      "success\n",
      "5 -> 2\n",
      "success\n",
      "7 -> 2\n",
      "success\n",
      "5 -> 2\n",
      "success\n",
      "4 -> 2\n",
      "success\n",
      "1 -> 2\n",
      "success\n",
      "3 -> 2\n",
      "success\n",
      "3 -> 2\n",
      "success\n",
      "3 -> 2\n",
      "success\n",
      "0 -> 2\n",
      "0.93\n"
     ]
    }
   ],
   "source": [
    "# データローダーにあるデータを1つずつ取り出し、すべて用いる。\n",
    "TARGET_CLASS = 2\n",
    "MAX_ITER = 200\n",
    "alpha = 100\n",
    "model = model.to(device)\n",
    "j = 0\n",
    "is_success = 0\n",
    "for data,target in test_loader:\n",
    "    j+=1\n",
    "    \n",
    "    data= data.to(device)\n",
    "    orig = data.to(device)\n",
    "    \n",
    "    target = target.to(device)\n",
    "    data.requires_grad = True\n",
    "    output = model(data)\n",
    "    \n",
    "    orig_output = model(orig).max(1,keepdim=True)[1]\n",
    "    if orig_output == TARGET_CLASS:\n",
    "        continue\n",
    "    add = torch.zeros((1,1,28,28)).to(device)\n",
    "    iter = 0\n",
    "\n",
    "    while (iter<MAX_ITER) and (output.max(1,keepdim=True)[1] != TARGET_CLASS):\n",
    "        jacobian = torch.zeros((10,1,28,28))# ヤコビアンを格納する変数\n",
    "        \n",
    "        #ヤコビアンの計算\n",
    "        # 出力のi番目に対する勾配を計算し\n",
    "        # ヤコビアンのi番目の成分に代入する\n",
    "\n",
    "        for i in range(10):\n",
    "            grad=torch.autograd.grad(output[0][i],data,retain_graph=True)\n",
    "            jacobian[i]=grad[0]\n",
    "\n",
    "        sat = SAT(jacobian,TARGET_CLASS).to(device)\n",
    "        add += sat\n",
    "        \n",
    "        data = (data + sat).to(device).clamp(0,1)\n",
    "        \n",
    "        output = model(data)\n",
    "        \n",
    "        iter += 1\n",
    "        \n",
    "        if output.max(1,keepdim=True)[1] == TARGET_CLASS or iter == MAX_ITER:\n",
    "            print(\"success\")\n",
    "            print(f\"{orig_output[0][0]} -> {TARGET_CLASS}\")\n",
    "            is_success += 1\n",
    "            if (is_success<=5):\n",
    "                fig, axis = plt.subplots(nrows=1, ncols=3)\n",
    "\n",
    "                orig_img = orig[0].cpu().detach().numpy()\n",
    "                axis[0].imshow(orig_img[0],cmap='gray')\n",
    "                axis[0].axis(\"off\")\n",
    "\n",
    "                \n",
    "                add_img = add.cpu().detach().numpy()\n",
    "                \n",
    "                # origとdataの差分がノイズとして表示する\n",
    "                \n",
    "                add_img = (data-orig).cpu().detach().numpy()\n",
    "                axis[1].imshow(add_img[0][0],cmap='gray')\n",
    "                axis[1].axis(\"off\")\n",
    "\n",
    "                axis[2].imshow(data[0][0].cpu().detach().numpy(),cmap='gray')\n",
    "                axis[2].axis(\"off\")\n",
    "                \n",
    "                plt.show()\n",
    "                \n",
    "\n",
    "                break\n",
    "        \n",
    "        \n",
    "\n",
    "        \n",
    "    if j==100:\n",
    "        print(is_success/100)\n",
    "        break"
   ]
  }
 ],
 "metadata": {
  "kernelspec": {
   "display_name": "base",
   "language": "python",
   "name": "python3"
  },
  "language_info": {
   "codemirror_mode": {
    "name": "ipython",
    "version": 3
   },
   "file_extension": ".py",
   "mimetype": "text/x-python",
   "name": "python",
   "nbconvert_exporter": "python",
   "pygments_lexer": "ipython3",
   "version": "3.9.13"
  },
  "orig_nbformat": 4,
  "vscode": {
   "interpreter": {
    "hash": "2ffeef7cfe2ac7f870ac8b7caed8f74785a58c9870f36ed2c8d69e0e9331e33d"
   }
  }
 },
 "nbformat": 4,
 "nbformat_minor": 2
}
