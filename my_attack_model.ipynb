{
 "cells": [
  {
   "attachments": {},
   "cell_type": "markdown",
   "metadata": {},
   "source": [
    "# Adversarial　Example -自作モデル編-\n",
    "AE(Adversarial Example)は機械学習のモデルに対する攻撃の一つ。これを行うことで、モデルの予測を誤らせることができる。なお、この攻撃はモデルが明らかになっている場合に行うことができる。\n",
    "\n",
    "具体的な手法としては、損失関数を最大化させる方向に\"入力データ\"を調整する。"
   ]
  },
  {
   "attachments": {},
   "cell_type": "markdown",
   "metadata": {},
   "source": [
    "まずはライブラリのインポート"
   ]
  },
  {
   "cell_type": "code",
   "execution_count": 1,
   "metadata": {},
   "outputs": [],
   "source": [
    "import os\n",
    "import torch\n",
    "import torch.nn as nn\n",
    "import torch.nn.functional as F\n",
    "import torch.optim as optim\n",
    "from torchvision import datasets,transforms\n",
    "import numpy as np\n",
    "import matplotlib.pyplot as plt\n",
    "import torch\n",
    "import torchvision\n",
    "import torchvision.transforms as transforms"
   ]
  },
  {
   "attachments": {},
   "cell_type": "markdown",
   "metadata": {},
   "source": [
    "ディレクトリの作成。事前に学習したモデルを取り込む。\n",
    "``` bash\n",
    "wget 'https://drive.google.com/uc?export=download&id=1KVOHbHnjCd1L-ookcd7CxDqb7rb8-DSx' -O './data/lenet_mnist_model.pth'\n",
    "```"
   ]
  },
  {
   "attachments": {},
   "cell_type": "markdown",
   "metadata": {},
   "source": [
    "次に、画像に与える摂動の大きさεを定義する。このεは、0のときは元の画像のまま。大きいほどノイズが大きくなる。"
   ]
  },
  {
   "cell_type": "code",
   "execution_count": 2,
   "metadata": {},
   "outputs": [],
   "source": [
    "pretrained_model = \"data/lenet_mnist_model.pth\"\n",
    "use_cuda=True"
   ]
  },
  {
   "attachments": {},
   "cell_type": "markdown",
   "metadata": {},
   "source": [
    "# MNISTモデルの定義\n",
    ".pthファイルはモデルの重みを与えている。そのため、モデルの構造を定義する必要がある。"
   ]
  },
  {
   "cell_type": "code",
   "execution_count": 3,
   "metadata": {},
   "outputs": [],
   "source": [
    "class Net(nn.Module):\n",
    "    def __init__(self):\n",
    "        super(Net,self).__init__()\n",
    "        self.conv1 = nn.Conv2d(1, 10, kernel_size=5)\n",
    "        self.conv2 = nn.Conv2d(10, 20, kernel_size=5)\n",
    "        self.conv2_drop = nn.Dropout2d()\n",
    "        self.fc1 = nn.Linear(320, 50)\n",
    "        self.fc2 = nn.Linear(50, 10)\n",
    "    \n",
    "    def forward(self,x):\n",
    "        x = F.relu(F.max_pool2d(self.conv1(x), 2))\n",
    "        x = F.relu(F.max_pool2d(self.conv2_drop(self.conv2(x)), 2))\n",
    "        x = x.view(-1, 320)\n",
    "        x = F.relu(self.fc1(x))\n",
    "        x = F.dropout(x, training=self.training)\n",
    "        x = self.fc2(x)\n",
    "        #return F.log_softmax(x, dim=1)\n",
    "        return F.log_softmax(x, dim=1)"
   ]
  },
  {
   "attachments": {},
   "cell_type": "markdown",
   "metadata": {},
   "source": [
    "## データセットとデータローダーの定義"
   ]
  },
  {
   "attachments": {},
   "cell_type": "markdown",
   "metadata": {},
   "source": [
    "MNISTデータセットからデータローダーを作成する。\n",
    "ここで、transforms.ToTensor()は勝手に0~1の範囲に変換してくれる。"
   ]
  },
  {
   "cell_type": "code",
   "execution_count": 4,
   "metadata": {},
   "outputs": [
    {
     "data": {
      "text/plain": [
       "Net(\n",
       "  (conv1): Conv2d(1, 10, kernel_size=(5, 5), stride=(1, 1))\n",
       "  (conv2): Conv2d(10, 20, kernel_size=(5, 5), stride=(1, 1))\n",
       "  (conv2_drop): Dropout2d(p=0.5, inplace=False)\n",
       "  (fc1): Linear(in_features=320, out_features=50, bias=True)\n",
       "  (fc2): Linear(in_features=50, out_features=10, bias=True)\n",
       ")"
      ]
     },
     "execution_count": 4,
     "metadata": {},
     "output_type": "execute_result"
    }
   ],
   "source": [
    "mnist_data = datasets.MNIST(root='./data', train=True, transform=transforms.Compose([\n",
    "                       transforms.ToTensor(),\n",
    "                   ]), download=True)\n",
    "\n",
    "# トレーニングデータとテストデータに分割\n",
    "train_data, test_data = torch.utils.data.random_split(mnist_data, [50000, 10000])\n",
    "train_loader = torch.utils.data.DataLoader(\n",
    "    train_data, batch_size=32, shuffle=True)\n",
    "    \n",
    "\n",
    "test_loader = torch.utils.data.DataLoader(\n",
    "    test_data,\n",
    "    batch_size=1, shuffle=True)\n",
    "\n",
    "device = torch.device(\"cuda\" if (use_cuda and torch.cuda.is_available())else \"cpu\")\n",
    "\n",
    "\n",
    "model = Net().to(device)\n",
    "\n",
    "model.load_state_dict(torch.load(pretrained_model,map_location='cpu'))\n",
    "\n",
    "model.eval()# 推論を有効に"
   ]
  },
  {
   "attachments": {},
   "cell_type": "markdown",
   "metadata": {},
   "source": [
    "# 特定のラベルになるように仕向ける攻撃\n",
    "モデルの損失関数Eに対して以下の最小化問題をときたい。\n",
    "$$min_{\\delta \\lambda} E(w,x+\\delta ,k_{adv})+\\lambda |\\delta |_1$$\n",
    "\n",
    "そのために、とりあえずマスク画像を作るCAE(Convolutional AutoEncoder)を作成して見た。"
   ]
  },
  {
   "cell_type": "code",
   "execution_count": 5,
   "metadata": {},
   "outputs": [],
   "source": [
    "\n",
    "class AE_attacker(nn.Module):\n",
    "    def __init__(self):\n",
    "        super(AE_attacker,self).__init__()\n",
    "\n",
    "        self.encoder = nn.Sequential(\n",
    "            nn.Conv2d(1, 8, kernel_size=3, stride=2, padding=1), # 14x14\n",
    "            nn.ReLU(),\n",
    "            nn.Conv2d(8, 32, kernel_size=3, stride=2, padding=1), # 7x7\n",
    "            nn.ReLU(),\n",
    "            nn.Conv2d(32, 64, kernel_size=3, stride=2, padding=1),  # 4x4\n",
    "            nn.ReLU()\n",
    "        )\n",
    "\n",
    "        self.decoder = nn.Sequential(\n",
    "            nn.ConvTranspose2d(64, 32, kernel_size=3, stride=2, padding=1), # 7x7\n",
    "            nn.ReLU(),\n",
    "            \n",
    "            nn.ConvTranspose2d(32, 8, kernel_size=3, stride=2, padding=1,output_padding=1), # 14x14\n",
    "            nn.ReLU(),\n",
    "            nn.ConvTranspose2d(8, 1, kernel_size=3, stride=2, padding=1,output_padding=1), # 28x28\n",
    "            nn.Sigmoid()\n",
    "            \n",
    "        )\n",
    "\n",
    "    \n",
    "    def forward(self,x):\n",
    "\n",
    "        z = self.encoder(x)\n",
    "        #print(z.size())\n",
    "        y = self.decoder(z)\n",
    "        return y\n",
    "\n"
   ]
  },
  {
   "attachments": {},
   "cell_type": "markdown",
   "metadata": {},
   "source": [
    "## 損失関数の定義\n",
    "モデルの損失関数Eに対して以下の損失を最小化させたい。(再掲)\n",
    "$$min_{\\delta } E(w,x+\\delta ,k_{adv})+\\lambda |\\delta |_1$$"
   ]
  },
  {
   "cell_type": "code",
   "execution_count": 6,
   "metadata": {},
   "outputs": [],
   "source": [
    "class CustomLoss(nn.Module):\n",
    "    def __init__(self,l1_weight):\n",
    "        super(CustomLoss,self).__init__()\n",
    "        self.l1_weight = l1_weight\n",
    "    \n",
    "    def forward(self,attacker,model,data,mask,target):\n",
    "        target_vec = torch.zeros(10).to(device)\n",
    "        target_vec[target] = 1.0\n",
    "        target_vec = target_vec.view(1,10)\n",
    "        target_vec = torch.zeros(data.size()[0], 10).to(device)\n",
    "        target_vec[:, target] = 1.0\n",
    "        #print(data.size())\n",
    "        #print(mask.size())\n",
    "        outputs = model(data+mask)\n",
    "\n",
    "\n",
    "       \n",
    "        mnist_loss = F.mse_loss(outputs,target_vec)\n",
    "        \n",
    "\n",
    "        l1_loss = self.l1_weight*torch.mean(torch.abs(mask))\n",
    "\n",
    "        return mnist_loss + l1_loss\n",
    "    \n",
    "    "
   ]
  },
  {
   "cell_type": "code",
   "execution_count": 8,
   "metadata": {},
   "outputs": [
    {
     "name": "stdout",
     "output_type": "stream",
     "text": [
      "Epoch [1/40], Loss: 6.1283\n",
      "Epoch [2/40], Loss: 6.0602\n",
      "Epoch [3/40], Loss: 5.9974\n",
      "Epoch [4/40], Loss: 6.0083\n",
      "Epoch [5/40], Loss: 5.9927\n",
      "Epoch [6/40], Loss: 5.9959\n",
      "Epoch [7/40], Loss: 5.9748\n",
      "Epoch [8/40], Loss: 5.9865\n",
      "Epoch [9/40], Loss: 5.9817\n",
      "Epoch [10/40], Loss: 5.9687\n",
      "Epoch [11/40], Loss: 5.9760\n",
      "Epoch [12/40], Loss: 5.9940\n",
      "Epoch [13/40], Loss: 5.9748\n",
      "Epoch [14/40], Loss: 5.9764\n",
      "Epoch [15/40], Loss: 5.9658\n",
      "Epoch [16/40], Loss: 5.9651\n",
      "Epoch [17/40], Loss: 5.9631\n",
      "Epoch [18/40], Loss: 5.9649\n",
      "Epoch [19/40], Loss: 5.9714\n",
      "Epoch [20/40], Loss: 5.9627\n",
      "Epoch [21/40], Loss: 5.9623\n",
      "Epoch [22/40], Loss: 5.9702\n",
      "Epoch [23/40], Loss: 5.9506\n",
      "Epoch [24/40], Loss: 5.9674\n",
      "Epoch [25/40], Loss: 5.9740\n",
      "Epoch [26/40], Loss: 5.9681\n",
      "Epoch [27/40], Loss: 5.9576\n",
      "Epoch [28/40], Loss: 5.9561\n",
      "Epoch [29/40], Loss: 5.9681\n",
      "Epoch [30/40], Loss: 5.9519\n",
      "Epoch [31/40], Loss: 5.9602\n",
      "Epoch [32/40], Loss: 5.9741\n",
      "Epoch [33/40], Loss: 5.9617\n",
      "Epoch [34/40], Loss: 5.9650\n",
      "Epoch [35/40], Loss: 5.9642\n",
      "Epoch [36/40], Loss: 5.9635\n",
      "Epoch [37/40], Loss: 5.9554\n",
      "Epoch [38/40], Loss: 5.9509\n",
      "Epoch [39/40], Loss: 5.9592\n",
      "Epoch [40/40], Loss: 5.9554\n"
     ]
    }
   ],
   "source": [
    "import datetime\n",
    "save_path = './model_weights'\n",
    "\n",
    "if not os.path.exists(save_path):\n",
    "    os.makedirs(save_path)\n",
    "    \n",
    "attacker = AE_attacker()\n",
    "attacker = attacker.to(device)\n",
    "TARGET = 1\n",
    "l1_weight = 1.0\n",
    "loss_fn = CustomLoss(l1_weight)\n",
    "\n",
    "learning_rate = 0.001\n",
    "optimizer = optim.Adam(attacker.parameters(),lr=learning_rate)\n",
    "\n",
    "num_epochs = 40\n",
    "for epoch in range(num_epochs):\n",
    "    for data,_ in train_loader:\n",
    "        \n",
    "        # 入力データの取得\n",
    "        data = data.to(device)\n",
    "       \n",
    "\n",
    "        # マスクの生成\n",
    "        mask = attacker(data)\n",
    "\n",
    "        # 損失の計算と逆伝播\n",
    "        loss = loss_fn(attacker,model,data,mask, TARGET)\n",
    "        optimizer.zero_grad()\n",
    "        loss.backward()\n",
    "        optimizer.step()\n",
    "\n",
    "    # エポックごとに損失を表示\n",
    "    print('Epoch [{}/{}], Loss: {:.4f}'.format(epoch+1, num_epochs, loss.item()))\n",
    "state_dict = attacker.state_dict()\n",
    "now = datetime.datetime.now()\n",
    "filename = f\"model_weights_{now:%Y-%m-%d_%H-%M-%S}.pth\"\n",
    "save_path = os.path.join(save_path,filename)\n",
    "torch.save(state_dict, save_path)\n"
   ]
  },
  {
   "cell_type": "code",
   "execution_count": 9,
   "metadata": {},
   "outputs": [],
   "source": [
    "def test(model,attacker,device,test_loader):\n",
    "    attacker.eval()\n",
    "    # 精度を計算 \n",
    "    success = 0\n",
    "    adv_examples = []\n",
    "    for data,target in test_loader:\n",
    "        data = data.to(device)\n",
    "        target = target.to(device)\n",
    "        data.requires_grad = True\n",
    "\n",
    "        output = model(data)# 攻撃対象モデルの出力(尤度)\n",
    "        MNIST_predict = output.max(1,keepdim=True)[1].item() # 攻撃対象の予測結果\n",
    "\n",
    "        print(MNIST_predict)\n",
    "        #print(target.item())\n",
    "        if MNIST_predict != target.item():\n",
    "            continue\n",
    "        attacked_data = data + attacker(data)\n",
    "\n",
    "        output = model(attacked_data)# MNISTの出力\n",
    "\n",
    "        MNIST_predict_after_attack = output.max(1,keepdim=True)[1].item() # MNISTの予測結果\n",
    "        #print(MNIST_predict,MNIST_predict_after_attack)\n",
    "        if MNIST_predict_after_attack == TARGET:\n",
    "            success +=1\n",
    "            \n",
    "            if len(adv_examples) < 5:\n",
    "                adv_ex = attacked_data.squeeze().detach().cpu().numpy()\n",
    "                adv_examples.append((data,attacked_data.item(),adv_ex))\n",
    "    attack_success_rate = success/float(len(test_loader))\n",
    "\n",
    "    print(\"Attack Success Rate = {} / {} = {}\".format(success,len(test_loader),attack_success_rate))\n",
    "    return attack_success_rate,adv_examples\n",
    "\n",
    "\n",
    "\n",
    "        \n",
    "\n",
    "        "
   ]
  },
  {
   "cell_type": "code",
   "execution_count": 10,
   "metadata": {},
   "outputs": [],
   "source": [
    "def test(model,attacker,device,test_loader):\n",
    "    attacker.eval()\n",
    "    # 精度を計算 \n",
    "    success = 0\n",
    "    MNIST_predicts = []\n",
    "    MNIST_predicts_after_attack = []\n",
    "    before_attacks = np.array([])\n",
    "    after_attacks = np.array([])\n",
    "    for data,target in test_loader:\n",
    "        data = data.to(device)\n",
    "        target = target.to(device)\n",
    "        data.requires_grad = True\n",
    "\n",
    "        output = model(data)# 攻撃対象モデルの出力\n",
    "        MNIST_predict = output.max(1,keepdim=True)[1]# 攻撃対象モデルの予測結果\n",
    "\n",
    "        #print(MNIST_predict)\n",
    "        #print(target.item())\n",
    "        if MNIST_predict.item() != target.item():\n",
    "            continue\n",
    "        attacked_data = data + attacker(data)\n",
    "\n",
    "        output = model(attacked_data)# MNISTの出力\n",
    "\n",
    "        MNIST_predict_after_attack = output.max(1,keepdim=True)[1] # MNISTの予測結果\n",
    "        #print(MNIST_predict,MNIST_predict_after_attack)\n",
    "        if MNIST_predict_after_attack.item() == TARGET:#ここ怪しい\n",
    "            success +=1\n",
    "            \n",
    "            if len(MNIST_predicts) < 5:\n",
    "\n",
    "                before_pic = data.squeeze().detach().cpu().numpy()\n",
    "                before_pic = np.array(before_pic,dtype=np.float32)\n",
    "                adv_ex = attacked_data.squeeze().detach().cpu().numpy()\n",
    "                adv_ex = np.array(adv_ex,dtype=np.float32)\n",
    "                #adv_examples.append((MNIST_predict.item(),MNIST_predict_after_attack.item(),before_pic,adv_ex))\n",
    "                MNIST_predicts.append(MNIST_predict.item())\n",
    "                MNIST_predicts_after_attack.append(MNIST_predict_after_attack.item())\n",
    "                before_attacks = np.append(before_attacks,before_pic)\n",
    "                after_attacks = np.append(after_attacks,adv_ex)\n",
    "                \n",
    "\n",
    "    attack_success_rate = success/float(len(test_loader))\n",
    "\n",
    "    print(\"Attack Success Rate = {} / {} = {}\".format(success,len(test_loader),attack_success_rate))\n",
    "    before_attacks = before_attacks.reshape(-1,28,28)\n",
    "    after_attacks = after_attacks.reshape(-1,28,28)\n",
    "    return attack_success_rate,MNIST_predicts,MNIST_predicts_after_attack,before_attacks,after_attacks"
   ]
  },
  {
   "cell_type": "code",
   "execution_count": 12,
   "metadata": {},
   "outputs": [
    {
     "name": "stdout",
     "output_type": "stream",
     "text": [
      "Attack Success Rate = 7420 / 10000 = 0.742\n"
     ]
    }
   ],
   "source": [
    "\n",
    "attacker = AE_attacker()\n",
    "attacker = attacker.to(device)\n",
    "weights_path = \"./model_weights/model_weights_2023-05-06_20-43-44.pth\"\n",
    "accuracies = []\n",
    "examples = []\n",
    "\n",
    "attacker.load_state_dict(torch.load(weights_path,map_location='cpu'))\n",
    "\n",
    "acc,MNIST_predicts,MNIST_predicts_after_attack,before_attacks,after_attacks= test(model,attacker,device,test_loader)\n",
    "\n"
   ]
  },
  {
   "cell_type": "code",
   "execution_count": 13,
   "metadata": {},
   "outputs": [
    {
     "name": "stdout",
     "output_type": "stream",
     "text": [
      "モデルの予測結果: 6 -> 攻撃後の予測結果: 1\n"
     ]
    },
    {
     "data": {
      "image/png": "[encoded data removed]",
      "text/plain": [
       "<Figure size 640x480 with 1 Axes>"
      ]
     },
     "metadata": {},
     "output_type": "display_data"
    },
    {
     "data": {
      "image/png": "[encoded data removed]",
      "text/plain": [
       "<Figure size 640x480 with 1 Axes>"
      ]
     },
     "metadata": {},
     "output_type": "display_data"
    },
    {
     "name": "stdout",
     "output_type": "stream",
     "text": [
      "モデルの予測結果: 0 -> 攻撃後の予測結果: 1\n"
     ]
    },
    {
     "data": {
      "image/png": "[encoded data removed]",
      "text/plain": [
       "<Figure size 640x480 with 1 Axes>"
      ]
     },
     "metadata": {},
     "output_type": "display_data"
    },
    {
     "data": {
      "image/png": "[encoded data removed]",
      "text/plain": [
       "<Figure size 640x480 with 1 Axes>"
      ]
     },
     "metadata": {},
     "output_type": "display_data"
    },
    {
     "name": "stdout",
     "output_type": "stream",
     "text": [
      "モデルの予測結果: 9 -> 攻撃後の予測結果: 1\n"
     ]
    },
    {
     "data": {
      "image/png": "[encoded data removed]",
      "text/plain": [
       "<Figure size 640x480 with 1 Axes>"
      ]
     },
     "metadata": {},
     "output_type": "display_data"
    },
    {
     "data": {
      "image/png": "[encoded data removed]",
      "text/plain": [
       "<Figure size 640x480 with 1 Axes>"
      ]
     },
     "metadata": {},
     "output_type": "display_data"
    }
   ],
   "source": [
    "\n",
    "\n",
    "for j in range(3):\n",
    "\n",
    "\n",
    "# 画像として表示する\n",
    "    print(\"モデルの予測結果: {} -> 攻撃後の予測結果: {}\".format(MNIST_predicts[j],MNIST_predicts_after_attack[j]))\n",
    "    plt.imshow(before_attacks[j], cmap=\"gray\")\n",
    "    plt.show()\n",
    "    plt.imshow(after_attacks[j], cmap=\"gray\")\n",
    "    plt.show()\n"
   ]
  }
 ],
 "metadata": {
  "kernelspec": {
   "display_name": "base",
   "language": "python",
   "name": "python3"
  },
  "language_info": {
   "codemirror_mode": {
    "name": "ipython",
    "version": 3
   },
   "file_extension": ".py",
   "mimetype": "text/x-python",
   "name": "python",
   "nbconvert_exporter": "python",
   "pygments_lexer": "ipython3",
   "version": "3.9.13"
  },
  "orig_nbformat": 4,
  "vscode": {
   "interpreter": {
    "hash": "2ffeef7cfe2ac7f870ac8b7caed8f74785a58c9870f36ed2c8d69e0e9331e33d"
   }
  }
 },
 "nbformat": 4,
 "nbformat_minor": 2
}
